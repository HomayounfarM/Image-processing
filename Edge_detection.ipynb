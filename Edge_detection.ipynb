{
  "nbformat": 4,
  "nbformat_minor": 0,
  "metadata": {
    "colab": {
      "private_outputs": true,
      "provenance": [],
      "authorship_tag": "ABX9TyOd3fyzPAy8TSppQ4ao5+dG",
      "include_colab_link": true
    },
    "kernelspec": {
      "name": "python3",
      "display_name": "Python 3"
    },
    "language_info": {
      "name": "python"
    }
  },
  "cells": [
    {
      "cell_type": "markdown",
      "metadata": {
        "id": "view-in-github",
        "colab_type": "text"
      },
      "source": [
        "<a href=\"https://colab.research.google.com/github/HomayounfarM/Image-processing/blob/main/Edge_detection.ipynb\" target=\"_parent\"><img src=\"https://colab.research.google.com/assets/colab-badge.svg\" alt=\"Open In Colab\"/></a>"
      ]
    },
    {
      "cell_type": "code",
      "source": [
        "!pip install -U -q PyDrive\n",
        "\n",
        "from pydrive.auth import GoogleAuth\n",
        "from pydrive.drive import GoogleDrive\n",
        "from google.colab import auth\n",
        "from oauth2client.client import GoogleCredentials\n",
        "\n",
        "# Authenticate and create the PyDrive client.\n",
        "auth.authenticate_user()\n",
        "gauth = GoogleAuth()\n",
        "gauth.credentials = GoogleCredentials.get_application_default()\n",
        "drive = GoogleDrive(gauth)\n",
        "from google.colab import drive\n",
        "import os"
      ],
      "metadata": {
        "id": "Qllzknm1M8iH"
      },
      "execution_count": null,
      "outputs": []
    },
    {
      "cell_type": "code",
      "source": [
        "import matplotlib.pyplot as plt\n",
        "import cv2\n",
        "import numpy as np\n",
        "import pandas as pd\n",
        "import scipy\n",
        "import statsmodels.api as sm\n",
        "from statsmodels.formula.api import ols\n",
        "import seaborn as sns\n",
        "import skimage\n",
        "from skimage.filters import median\n",
        "from skimage.morphology import disk\n",
        "from skimage import feature\n",
        "from scipy.ndimage import distance_transform_edt\n",
        "from skimage import measure\n",
        "import cv2 as cv\n",
        "import cv2 as cv2\n",
        "from skimage.segmentation import watershed\n",
        "from scipy import ndimage as ndi\n",
        "from sklearn.cluster import KMeans\n",
        "import skimage.io\n",
        "from skimage import data"
      ],
      "metadata": {
        "id": "540vYUXMxGPP"
      },
      "execution_count": null,
      "outputs": []
    },
    {
      "cell_type": "code",
      "source": [
        "from google.colab import drive\n",
        "import matplotlib.pyplot as plt\n",
        "import os\n",
        "import cv2\n",
        "from PIL import Image\n",
        "\n",
        "\n",
        "# Increase the allowed pixel limit (use a value that suits your needs)\n",
        "Image.MAX_IMAGE_PIXELS = None  # Setting to None removes the limit\n",
        "\n",
        "# Mount Google Drive\n",
        "drive.mount('/content/drive')\n",
        "\n",
        "os.chdir('/content/drive/My Drive/Colab Notebooks/Data/image processing/')\n",
        "\n",
        "img = plt.imread('20221115_LaBelle_2D_21MB_150ft_8ftpersec_transparent_mosaic_group1.tif')\n",
        "#img = cv.imread(r'A_1_DR_Labelle Tomato Image.tif')\n",
        "plt.imshow(img)\n"
      ],
      "metadata": {
        "id": "ydyQRsxIVO5p"
      },
      "execution_count": null,
      "outputs": []
    },
    {
      "cell_type": "code",
      "execution_count": null,
      "metadata": {
        "id": "euqabzOvLseJ"
      },
      "outputs": [],
      "source": [
        "cropped_image = img[2000:4000, 7800:8500]\n",
        "cropped_image.shape\n",
        "#plt.figure(figsize=(10,20))\n",
        "#plt.imshow(cropped_image)"
      ]
    },
    {
      "cell_type": "code",
      "source": [
        "# OpenCV by default reads images in BGR format. You can use the cvtColor(image, flag)\n",
        "# and the flag we looked at above to fix this:\n",
        "\n",
        "cropped_image_RGB = cv2.cvtColor(cropped_image, cv2.COLOR_BGR2RGB)\n",
        "cropped_image_hsv = cv2.cvtColor(cropped_image, cv2.COLOR_BGR2HSV)\n",
        "\n",
        "f, (ax0,ax1,ax2) = plt.subplots(1,3, figsize=(10,500))\n",
        "\n",
        "ax0.imshow(cropped_image)\n",
        "ax1.imshow(cropped_image_RGB)\n",
        "ax2.imshow(cropped_image_hsv)"
      ],
      "metadata": {
        "id": "Ohrd_uoqSjxn"
      },
      "execution_count": null,
      "outputs": []
    },
    {
      "cell_type": "code",
      "source": [],
      "metadata": {
        "id": "WnfeEACZSjpC"
      },
      "execution_count": null,
      "outputs": []
    },
    {
      "cell_type": "code",
      "source": [
        "from mpl_toolkits.mplot3d import Axes3D\n",
        "from matplotlib import cm\n",
        "from matplotlib import colors"
      ],
      "metadata": {
        "id": "AIXOVO7RSHU8"
      },
      "execution_count": null,
      "outputs": []
    },
    {
      "cell_type": "code",
      "source": [
        "r, g, b = cv2.split(cropped_image_RGB)\n",
        "fig = plt.figure(figsize=(10,10))\n",
        "axis = fig.add_subplot(1, 1, 1, projection=\"3d\")\n",
        "\n",
        "pixel_colors = cropped_image_RGB.reshape((np.shape(cropped_image_RGB)[0]*np.shape(cropped_image_RGB)[1], 3))\n",
        "norm = colors.Normalize(vmin=-1.,vmax=1.)\n",
        "norm.autoscale(pixel_colors)\n",
        "pixel_colors = norm(pixel_colors).tolist()\n",
        "\n",
        "axis.scatter(r.flatten(), g.flatten(), b.flatten(), facecolors=pixel_colors, marker=\".\")\n",
        "axis.set_xlabel(\"Red\")\n",
        "axis.set_ylabel(\"Green\")\n",
        "axis.set_zlabel(\"Blue\")\n",
        "plt.show()"
      ],
      "metadata": {
        "id": "_mRYIhZqSHIq"
      },
      "execution_count": null,
      "outputs": []
    },
    {
      "cell_type": "code",
      "source": [
        "h, s, v = cv2.split(cropped_image_hsv)\n",
        "fig = plt.figure(figsize=(10,10))\n",
        "axis = fig.add_subplot(1, 1, 1, projection=\"3d\")\n",
        "\n",
        "pixel_colors = cropped_image_hsv.reshape((np.shape(cropped_image_hsv)[0]*np.shape(cropped_image_hsv)[1], 3))\n",
        "norm = colors.Normalize(vmin=-1.,vmax=1.)\n",
        "norm.autoscale(pixel_colors)\n",
        "pixel_colors = norm(pixel_colors).tolist()\n",
        "\n",
        "axis.scatter(h.flatten(), s.flatten(), v.flatten(), facecolors=pixel_colors, marker=\".\")\n",
        "axis.set_xlabel(\"Hue\")\n",
        "axis.set_ylabel(\"Saturation\")\n",
        "axis.set_zlabel(\"Value\")\n",
        "plt.show()"
      ],
      "metadata": {
        "id": "icCnmQ2ITK4o"
      },
      "execution_count": null,
      "outputs": []
    },
    {
      "cell_type": "code",
      "source": [
        "denoised = cv.medianBlur(cropped_image,5)\n",
        "hsv = cv2.cvtColor(cropped_image, cv2.COLOR_BGR2HSV)\n",
        "f, (ax0,ax1,ax2,ax3)=plt.subplots(1,4, figsize=(10,20))\n",
        "ax0.imshow(cropped_image)\n",
        "ax1.imshow(denoised)\n",
        "ax2.imshow(hsv)\n",
        "\n",
        "lower_green = np.array([25, 40, 40])\n",
        "upper_green = np.array([80, 255, 255])\n",
        "mask1 = cv2.inRange(hsv, lower_green, upper_green)                          # Using threshold to male a mask\n",
        "result_thresh = cv2.bitwise_and(cropped_image, cropped_image, mask=mask1)   # to show the mask on the original image\n",
        "\n",
        "ax3.imshow(mask1)"
      ],
      "metadata": {
        "id": "s9Qe3lTYFOXi"
      },
      "execution_count": null,
      "outputs": []
    },
    {
      "cell_type": "code",
      "source": [
        "cropped_image_gray = cv.cvtColor(cropped_image, cv.COLOR_BGR2GRAY)\n",
        "cropped_image_den_gray = cv.cvtColor(denoised, cv.COLOR_BGR2GRAY)\n",
        "cropped_image_hsv_gray = cv.cvtColor(hsv, cv.COLOR_BGR2GRAY)\n",
        "\n",
        "h, s, v = cv2.split(hsv)\n",
        "\n",
        "plt.figure(figsize=(10,20))\n",
        "plt.imshow(h)"
      ],
      "metadata": {
        "id": "QsvPFP7aF-cp"
      },
      "execution_count": null,
      "outputs": []
    },
    {
      "cell_type": "code",
      "source": [
        "plt.hist(h, bins=5)"
      ],
      "metadata": {
        "id": "pu3SkonNGRdv"
      },
      "execution_count": null,
      "outputs": []
    },
    {
      "cell_type": "code",
      "source": [
        "from sklearn.cluster import KMeans\n",
        "KMeans=KMeans(n_clusters=3)\n",
        "h1=np.array(h).reshape(-1,1)\n",
        "KMeans.fit(np.array(h1))\n",
        "print(KMeans.cluster_centers_)"
      ],
      "metadata": {
        "id": "20Tj2jsqGSrb"
      },
      "execution_count": null,
      "outputs": []
    },
    {
      "cell_type": "code",
      "source": [
        "# Get cluster assignments for each data point\n",
        "cluster_assignments = KMeans.labels_\n",
        "cluster_assignments = cluster_assignments.reshape(2000,700)\n",
        "cluster_assignments[cluster_assignments==2]=0\n",
        "# Get the coordinates of the cluster centers\n",
        "cluster_centers = KMeans.cluster_centers_\n",
        "\n",
        "cluster_assignments[cluster_assignments==1]=255\n",
        "\n",
        "# Plot the data points and cluster centers\n",
        "f, (ax0, ax1, ax2, ax3) = plt.subplots(1,4, figsize=(10,20))\n",
        "ax0.imshow(cluster_assignments)\n",
        "ax1.imshow(cropped_image)\n",
        "ax2.imshow(mask1)\n",
        "ax3.imshow(h)"
      ],
      "metadata": {
        "id": "QVUNdKYPGScD"
      },
      "execution_count": null,
      "outputs": []
    },
    {
      "cell_type": "code",
      "source": [],
      "metadata": {
        "id": "jIZJcLHhGSJ-"
      },
      "execution_count": null,
      "outputs": []
    }
  ]
}